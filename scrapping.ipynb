{
 "cells": [
  {
   "cell_type": "markdown",
   "metadata": {},
   "source": [
    "# Scrapping the temperature data of top 50 indian cities based on population"
   ]
  },
  {
   "cell_type": "markdown",
   "metadata": {},
   "source": [
    "### Importing required libraries"
   ]
  },
  {
   "cell_type": "code",
   "execution_count": 1,
   "metadata": {},
   "outputs": [],
   "source": [
    "import requests\n",
    "import json\n",
    "from datetime import date\n",
    "import pandas as pd\n",
    "import numpy as np"
   ]
  },
  {
   "cell_type": "code",
   "execution_count": 2,
   "metadata": {},
   "outputs": [],
   "source": [
    "# Creating a function to fetch the required Fields from the json data of all cities\n",
    "\n",
    "def getdata(response_dict):\n",
    "    date_time = []\n",
    "    temp_deg_c = []\n",
    "    date=[]\n",
    "    for index, item in enumerate(response_dict['list']):\n",
    "        date_time.append (response_dict['list'][index]['dt_txt'])\n",
    "        temp_deg_c.append (response_dict['list'][index]['main']['temp'])\n",
    "    time=list(map(lambda x : str(x).split(\" \")[1], (response_dict['list'][index]['dt_txt'] for index, item in enumerate(response_dict['list']))))\n",
    "    date=list(map(lambda x : str(x).split(\" \")[0], (response_dict['list'][index]['dt_txt'] for index, item in enumerate(response_dict['list']))))\n",
    "    temp_c_rounded=list(map(lambda x : (round(x,0)), (response_dict['list'][index]['main']['temp'] for index, item in enumerate(response_dict['list']))))\n",
    "    \n",
    "    s_date_time = pd.Series(data = date_time)\n",
    "    s_temp_deg_c = pd.Series(data =  temp_deg_c)\n",
    "    city = pd.DataFrame(data ={\"date_time\":s_date_time,\"temp_deg_c\":s_temp_deg_c, \"date\": date, 'time':time, 'temp_c_rounded':temp_c_rounded})\n",
    "    return city"
   ]
  },
  {
   "cell_type": "code",
   "execution_count": 3,
   "metadata": {},
   "outputs": [],
   "source": [
    "# Creating a function to pass the city name and fetching the url so that we can load the json data from the url\n",
    "\n",
    "def data(U):\n",
    "    city = U\n",
    "    country_code = \"IN\"\n",
    "    location = city+','+country_code\n",
    "    APIKEY = 'c8183a3b98443fc1cbbe9f4d64cf3009'\n",
    "    url = \"https://api.openweathermap.org/data/2.5/forecast?q={}&units=metric&APPID={}\" .format(location,APIKEY)\n",
    "    response = requests.get(url)\n",
    "    response_dict = json.loads(response.text)\n",
    "    return response_dict"
   ]
  },
  {
   "cell_type": "markdown",
   "metadata": {},
   "source": [
    "### Now i am passing the name of each city to the function and saving the output into a excel sheet"
   ]
  },
  {
   "cell_type": "code",
   "execution_count": 4,
   "metadata": {},
   "outputs": [],
   "source": [
    "response_dict = data(\"Mumbai\")\n",
    "City = getdata(response_dict)\n",
    "City.to_csv('dataset\\Mumbai.csv',index=False)"
   ]
  },
  {
   "cell_type": "code",
   "execution_count": 5,
   "metadata": {},
   "outputs": [],
   "source": [
    "response_dict = data(\"Delhi\")\n",
    "City = getdata(response_dict)\n",
    "City.to_csv('dataset\\Delhi.csv',index=False)"
   ]
  },
  {
   "cell_type": "code",
   "execution_count": 6,
   "metadata": {},
   "outputs": [],
   "source": [
    "response_dict = data(\"Bangalore\")\n",
    "City = getdata(response_dict)\n",
    "City.to_csv('dataset\\Bangalore.csv',index=False)"
   ]
  },
  {
   "cell_type": "code",
   "execution_count": 7,
   "metadata": {},
   "outputs": [],
   "source": [
    "response_dict = data(\"Hyderabad\")\n",
    "City = getdata(response_dict)\n",
    "City.to_csv('dataset\\Hyderabad.csv',index=False)"
   ]
  },
  {
   "cell_type": "code",
   "execution_count": 8,
   "metadata": {},
   "outputs": [],
   "source": [
    "response_dict = data(\"Ahmedabad\")\n",
    "City = getdata(response_dict)\n",
    "City.to_csv('dataset\\Ahmedabad.csv',index=False)"
   ]
  },
  {
   "cell_type": "code",
   "execution_count": 9,
   "metadata": {},
   "outputs": [],
   "source": [
    "response_dict = data(\"Chennai\")\n",
    "City = getdata(response_dict)\n",
    "City.to_csv('dataset\\Chennai.csv',index=False)"
   ]
  },
  {
   "cell_type": "code",
   "execution_count": 10,
   "metadata": {},
   "outputs": [],
   "source": [
    "response_dict = data(\"Kolkata\")\n",
    "City = getdata(response_dict)\n",
    "City.to_csv('dataset\\Kolkata.csv',index=False)"
   ]
  },
  {
   "cell_type": "code",
   "execution_count": 11,
   "metadata": {},
   "outputs": [],
   "source": [
    "response_dict = data(\"Surat\")\n",
    "City = getdata(response_dict)\n",
    "City.to_csv('dataset\\Surat.csv',index=False)"
   ]
  },
  {
   "cell_type": "code",
   "execution_count": 12,
   "metadata": {},
   "outputs": [],
   "source": [
    "response_dict = data(\"Pune\")\n",
    "City = getdata(response_dict)\n",
    "City.to_csv('dataset\\Pune.csv',index=False)"
   ]
  },
  {
   "cell_type": "code",
   "execution_count": 13,
   "metadata": {},
   "outputs": [],
   "source": [
    "response_dict = data(\"Jaipur\")\n",
    "City = getdata(response_dict)\n",
    "City.to_csv('dataset\\Jaipur.csv',index=False)"
   ]
  },
  {
   "cell_type": "code",
   "execution_count": 14,
   "metadata": {},
   "outputs": [],
   "source": [
    "response_dict = data(\"Lucknow\")\n",
    "City = getdata(response_dict)\n",
    "City.to_csv('dataset\\Lucknow.csv',index=False)"
   ]
  },
  {
   "cell_type": "code",
   "execution_count": 15,
   "metadata": {},
   "outputs": [],
   "source": [
    "response_dict = data(\"Kanpur\")\n",
    "City = getdata(response_dict)\n",
    "City.to_csv('dataset\\Kanpur.csv',index=False)"
   ]
  },
  {
   "cell_type": "code",
   "execution_count": 16,
   "metadata": {},
   "outputs": [],
   "source": [
    "response_dict = data(\"Nagpur\")\n",
    "City = getdata(response_dict)\n",
    "City.to_csv('Nagpur.csv',index=False)"
   ]
  },
  {
   "cell_type": "code",
   "execution_count": 17,
   "metadata": {},
   "outputs": [],
   "source": [
    "response_dict = data(\"Indore\")\n",
    "City = getdata(response_dict)\n",
    "City.to_csv('dataset\\Indore.csv',index=False)"
   ]
  },
  {
   "cell_type": "code",
   "execution_count": 18,
   "metadata": {},
   "outputs": [],
   "source": [
    "response_dict = data(\"Thane\")\n",
    "City = getdata(response_dict)\n",
    "City.to_csv('dataset\\Thane.csv',index=False)"
   ]
  },
  {
   "cell_type": "code",
   "execution_count": 19,
   "metadata": {},
   "outputs": [],
   "source": [
    "response_dict = data(\"Bhopal\")\n",
    "City = getdata(response_dict)\n",
    "City.to_csv('dataset\\Bhopal.csv',index=False)"
   ]
  },
  {
   "cell_type": "code",
   "execution_count": 20,
   "metadata": {},
   "outputs": [],
   "source": [
    "response_dict = data(\"Vishakhapatnam\")\n",
    "City = getdata(response_dict)\n",
    "City.to_csv('dataset\\Vishakhapatnam.csv',index=False)"
   ]
  },
  {
   "cell_type": "code",
   "execution_count": 21,
   "metadata": {},
   "outputs": [],
   "source": [
    "response_dict = data(\"Pimpri-Chinchwad\")\n",
    "City = getdata(response_dict)\n",
    "City.to_csv('dataset\\Pimpri.csv',index=False)"
   ]
  },
  {
   "cell_type": "code",
   "execution_count": 22,
   "metadata": {},
   "outputs": [],
   "source": [
    "response_dict = data(\"Patna\")\n",
    "City = getdata(response_dict)\n",
    "City.to_csv('dataset\\Patna.csv',index=False)"
   ]
  },
  {
   "cell_type": "code",
   "execution_count": 23,
   "metadata": {},
   "outputs": [],
   "source": [
    "response_dict = data(\"Vadodara\")\n",
    "City = getdata(response_dict)\n",
    "City.to_csv('dataset\\Vadodara.csv',index=False)"
   ]
  },
  {
   "cell_type": "code",
   "execution_count": 24,
   "metadata": {},
   "outputs": [],
   "source": [
    "response_dict = data(\"Ghaziabad\")\n",
    "City = getdata(response_dict)\n",
    "City.to_csv('dataset\\Ghaziabad.csv',index=False)"
   ]
  },
  {
   "cell_type": "code",
   "execution_count": 25,
   "metadata": {},
   "outputs": [],
   "source": [
    "response_dict = data(\"Ludhiana\")\n",
    "City = getdata(response_dict)\n",
    "City.to_csv('dataset\\Ludhiana.csv',index=False)"
   ]
  },
  {
   "cell_type": "code",
   "execution_count": 26,
   "metadata": {},
   "outputs": [],
   "source": [
    "response_dict = data(\"Agra\")\n",
    "City = getdata(response_dict)\n",
    "City.to_csv('dataset\\Agra.csv',index=False)"
   ]
  },
  {
   "cell_type": "code",
   "execution_count": 27,
   "metadata": {},
   "outputs": [],
   "source": [
    "response_dict = data(\"Allahabad\")\n",
    "City = getdata(response_dict)\n",
    "City.to_csv('dataset\\Allahabad.csv',index=False)"
   ]
  },
  {
   "cell_type": "code",
   "execution_count": 28,
   "metadata": {},
   "outputs": [],
   "source": [
    "response_dict = data(\"Nashik\")\n",
    "City = getdata(response_dict)\n",
    "City.to_csv('Nashik.csv',index=False)"
   ]
  },
  {
   "cell_type": "code",
   "execution_count": 29,
   "metadata": {},
   "outputs": [],
   "source": [
    "response_dict = data(\"Faridabad\")\n",
    "City = getdata(response_dict)\n",
    "City.to_csv('dataset\\Faridabad.csv',index=False)"
   ]
  },
  {
   "cell_type": "code",
   "execution_count": 30,
   "metadata": {},
   "outputs": [],
   "source": [
    "response_dict = data(\"Meerut\")\n",
    "City = getdata(response_dict)\n",
    "City.to_csv('dataset\\Meerut.csv',index=False)"
   ]
  },
  {
   "cell_type": "code",
   "execution_count": 31,
   "metadata": {},
   "outputs": [],
   "source": [
    "response_dict = data(\"Rajkot\")\n",
    "City = getdata(response_dict)\n",
    "City.to_csv('dataset\\Rajkot.csv',index=False)"
   ]
  },
  {
   "cell_type": "code",
   "execution_count": 32,
   "metadata": {},
   "outputs": [],
   "source": [
    "response_dict = data(\"Kalyan-Dombivli\")\n",
    "City = getdata(response_dict)\n",
    "City.to_csv('dataset\\Kalyan-Dombivli.csv',index=False)"
   ]
  },
  {
   "cell_type": "code",
   "execution_count": 33,
   "metadata": {},
   "outputs": [],
   "source": [
    "response_dict = data(\"Vasai-Virar\")\n",
    "City = getdata(response_dict)\n",
    "City.to_csv('dataset\\Vasai.csv',index=False)"
   ]
  },
  {
   "cell_type": "code",
   "execution_count": 34,
   "metadata": {},
   "outputs": [],
   "source": [
    "response_dict = data(\"Varanasi\")\n",
    "City = getdata(response_dict)\n",
    "City.to_csv('dataset\\Varanasi.csv',index=False)"
   ]
  },
  {
   "cell_type": "code",
   "execution_count": 35,
   "metadata": {},
   "outputs": [],
   "source": [
    "response_dict = data(\"Srinagar\")\n",
    "City = getdata(response_dict)\n",
    "City.to_csv('dataset\\Srinagar.csv',index=False)"
   ]
  },
  {
   "cell_type": "code",
   "execution_count": 36,
   "metadata": {},
   "outputs": [],
   "source": [
    "response_dict = data(\"Aurangabad\")\n",
    "City = getdata(response_dict)\n",
    "City.to_csv('dataset\\Aurangabad.csv',index=False)"
   ]
  },
  {
   "cell_type": "code",
   "execution_count": 37,
   "metadata": {},
   "outputs": [],
   "source": [
    "response_dict = data(\"Dhanbad\")\n",
    "City = getdata(response_dict)\n",
    "City.to_csv('dataset\\Dhanbad.csv',index=False)"
   ]
  },
  {
   "cell_type": "code",
   "execution_count": 38,
   "metadata": {},
   "outputs": [],
   "source": [
    "response_dict = data(\"Amritsar\")\n",
    "City = getdata(response_dict)\n",
    "City.to_csv('dataset\\Amritsar.csv',index=False)"
   ]
  },
  {
   "cell_type": "code",
   "execution_count": 42,
   "metadata": {},
   "outputs": [],
   "source": [
    "response_dict = data(\"Navi Mumbai\")\n",
    "City = getdata(response_dict)\n",
    "City.to_csv('Navi-Mumbai.csv',encoding='utf-8',index=False)"
   ]
  },
  {
   "cell_type": "code",
   "execution_count": 43,
   "metadata": {},
   "outputs": [],
   "source": [
    "response_dict = data(\"Howrah\")\n",
    "City = getdata(response_dict)\n",
    "City.to_csv('dataset\\Howrah.csv',index=False)"
   ]
  },
  {
   "cell_type": "code",
   "execution_count": 44,
   "metadata": {},
   "outputs": [],
   "source": [
    "response_dict = data(\"Ranchi\")\n",
    "City = getdata(response_dict)\n",
    "City.to_csv('dataset\\Ranchi.csv',index=False)"
   ]
  },
  {
   "cell_type": "code",
   "execution_count": 45,
   "metadata": {},
   "outputs": [],
   "source": [
    "response_dict = data(\"Gwalior\")\n",
    "City = getdata(response_dict)\n",
    "City.to_csv('dataset\\Gwalior.csv',index=False)"
   ]
  },
  {
   "cell_type": "code",
   "execution_count": 46,
   "metadata": {},
   "outputs": [],
   "source": [
    "response_dict = data(\"Jabalpur\")\n",
    "City = getdata(response_dict)\n",
    "City.to_csv('dataset\\Jabalpur.csv',index=False)"
   ]
  },
  {
   "cell_type": "code",
   "execution_count": 47,
   "metadata": {},
   "outputs": [],
   "source": [
    "response_dict = data(\"Coimbatore\")\n",
    "City = getdata(response_dict)\n",
    "City.to_csv('dataset\\Coimbatore.csv',index=False)"
   ]
  },
  {
   "cell_type": "code",
   "execution_count": 48,
   "metadata": {},
   "outputs": [],
   "source": [
    "response_dict = data(\"Vijayawada\")\n",
    "City = getdata(response_dict)\n",
    "City.to_csv('dataset\\Vijayawada.csv',index=False)"
   ]
  },
  {
   "cell_type": "code",
   "execution_count": 49,
   "metadata": {},
   "outputs": [],
   "source": [
    "response_dict = data(\"Jodhpur\")\n",
    "City = getdata(response_dict)\n",
    "City.to_csv('dataset\\Jodhpur.csv',index=False)"
   ]
  },
  {
   "cell_type": "code",
   "execution_count": 50,
   "metadata": {},
   "outputs": [],
   "source": [
    "response_dict = data(\"Madurai\")\n",
    "City = getdata(response_dict)\n",
    "City.to_csv('dataset\\Madurai.csv',index=False)"
   ]
  },
  {
   "cell_type": "code",
   "execution_count": 51,
   "metadata": {},
   "outputs": [],
   "source": [
    "response_dict = data(\"Raipur\")\n",
    "City = getdata(response_dict)\n",
    "City.to_csv('dataset\\Raipur.csv',index=False)"
   ]
  },
  {
   "cell_type": "code",
   "execution_count": 52,
   "metadata": {},
   "outputs": [],
   "source": [
    "response_dict = data(\"Kota\")\n",
    "City = getdata(response_dict)\n",
    "City.to_csv('dataset\\Kota.csv',index=False)"
   ]
  },
  {
   "cell_type": "code",
   "execution_count": 53,
   "metadata": {},
   "outputs": [],
   "source": [
    "response_dict = data(\"Chandigarh\")\n",
    "City = getdata(response_dict)\n",
    "City.to_csv('dataset\\Chandigarh.csv',index=False)"
   ]
  },
  {
   "cell_type": "code",
   "execution_count": 54,
   "metadata": {},
   "outputs": [],
   "source": [
    "response_dict = data(\"Guwahati\")\n",
    "City = getdata(response_dict)\n",
    "City.to_csv('dataset\\Guwahati.csv',index=False)"
   ]
  },
  {
   "cell_type": "code",
   "execution_count": 55,
   "metadata": {},
   "outputs": [],
   "source": [
    "response_dict = data(\"Solapur\")\n",
    "City = getdata(response_dict)\n",
    "City.to_csv('dataset\\Solapur.csv',index=False)"
   ]
  },
  {
   "cell_type": "code",
   "execution_count": 56,
   "metadata": {},
   "outputs": [],
   "source": [
    "response_dict = data(\"Hubli\")\n",
    "City = getdata(response_dict)\n",
    "City.to_csv('dataset\\Hubli.csv',index=False)"
   ]
  },
  {
   "cell_type": "code",
   "execution_count": null,
   "metadata": {},
   "outputs": [],
   "source": []
  },
  {
   "cell_type": "code",
   "execution_count": null,
   "metadata": {},
   "outputs": [],
   "source": []
  }
 ],
 "metadata": {
  "kernelspec": {
   "display_name": "Python 3",
   "language": "python",
   "name": "python3"
  },
  "language_info": {
   "codemirror_mode": {
    "name": "ipython",
    "version": 3
   },
   "file_extension": ".py",
   "mimetype": "text/x-python",
   "name": "python",
   "nbconvert_exporter": "python",
   "pygments_lexer": "ipython3",
   "version": "3.7.3"
  }
 },
 "nbformat": 4,
 "nbformat_minor": 2
}
